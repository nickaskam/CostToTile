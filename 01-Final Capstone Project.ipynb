{
 "cells": [
  {
   "cell_type": "markdown",
   "metadata": {
    "collapsed": true
   },
   "source": [
    "# Final Capstone Project for a Udemy Class\n",
    "\n",
   ]
  },
  {
   "cell_type": "markdown",
   "metadata": {},
   "source": [
    "**Find Cost of Tile to Cover W x H Floor** - Calculate the total cost of tile it would take to cover a floor plan of width and height, using a cost entered by the user."
   ]
  },
  {
   "cell_type": "code",
   "execution_count": 26,
   "metadata": {},
   "outputs": [
    {
     "name": "stdout",
     "output_type": "stream",
     "text": [
      "What is the Width of the floor in Sq Ft? 2\n",
      "What is the Height of the floor in Sq Ft? 4\n",
      "Finally, what is the cost of the tile per Sq Ft? 3\n",
      "\n",
      "Width: 2 Sq Ft; Height: 4 Sq Ft; Price per sq ft: $ 3\n",
      "cost to tile floor: $ 24\n"
     ]
    }
   ],
   "source": [
    "width = int(input(\"What is the Width of the floor in Sq Ft? \"))\n",
    "height = int(input(\"What is the Height of the floor in Sq Ft? \"))\n",
    "price = int(input(\"Finally, what is the cost of the tile per Sq Ft? \"))\n",
    "total_cost = width*height*price\n",
    "\n",
    "print(\"\\nWidth:\", width, \"Sq Ft; Height:\",height,\"Sq Ft; Price per sq ft: $\",price)\n",
    "print(\"cost to tile floor: $\",total_cost)"
   ]
  },
  {
   "cell_type": "code",
   "execution_count": null,
   "metadata": {
    "collapsed": true
   },
   "outputs": [],
   "source": []
  }
 ],
 "metadata": {
  "kernelspec": {
   "display_name": "Python 3",
   "language": "python",
   "name": "python3"
  },
  "language_info": {
   "codemirror_mode": {
    "name": "ipython",
    "version": 3
   },
   "file_extension": ".py",
   "mimetype": "text/x-python",
   "name": "python",
   "nbconvert_exporter": "python",
   "pygments_lexer": "ipython3",
   "version": "3.6.3"
  }
 },
 "nbformat": 4,
 "nbformat_minor": 1
}
